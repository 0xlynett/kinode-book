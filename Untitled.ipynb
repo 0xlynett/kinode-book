{
 "cells": [
  {
   "cell_type": "code",
   "execution_count": 2,
   "id": "d2d45c26-3a9f-402e-bdbe-28b4e00248ee",
   "metadata": {},
   "outputs": [
    {
     "data": {
      "text/plain": [
       "array([1, 2, 3, 4, 5, 6, 7, 8, 9])"
      ]
     },
     "execution_count": 2,
     "metadata": {},
     "output_type": "execute_result"
    }
   ],
   "source": [
    "import numpy as np\n",
    "np.arange(1, 10)\n"
   ]
  },
  {
   "cell_type": "code",
   "execution_count": 3,
   "id": "fb627f58-e19a-4f2c-84dd-5ed2fbddc163",
   "metadata": {},
   "outputs": [],
   "source": [
    "matrix9 = np.arange(1, 10).reshape(3, 3)"
   ]
  },
  {
   "cell_type": "code",
   "execution_count": 4,
   "id": "0f613af6-0a8c-40c8-9fd5-10ded67be93c",
   "metadata": {},
   "outputs": [
    {
     "data": {
      "text/plain": [
       "array([[1, 2, 3],\n",
       "       [4, 5, 6],\n",
       "       [7, 8, 9]])"
      ]
     },
     "execution_count": 4,
     "metadata": {},
     "output_type": "execute_result"
    }
   ],
   "source": [
    "matrix9\n"
   ]
  },
  {
   "cell_type": "code",
   "execution_count": 8,
   "id": "fb2a3aa1-f5cb-4784-b0d8-04a7006c0822",
   "metadata": {},
   "outputs": [
    {
     "data": {
      "text/plain": [
       "array([[11, 12, 13],\n",
       "       [14, 15, 16],\n",
       "       [17, 18, 19]])"
      ]
     },
     "execution_count": 8,
     "metadata": {},
     "output_type": "execute_result"
    }
   ],
   "source": [
    "matrix10 = np.arange(11, 20).reshape(3, 3)\n",
    "matrix10"
   ]
  },
  {
   "cell_type": "code",
   "execution_count": 9,
   "id": "213717c4-c1e9-474f-91bd-7659d3eea1d1",
   "metadata": {},
   "outputs": [
    {
     "name": "stdout",
     "output_type": "stream",
     "text": [
      "multiplication \n",
      " [[ 90  96 102]\n",
      " [216 231 246]\n",
      " [342 366 390]]\n"
     ]
    }
   ],
   "source": [
    "print(\"multiplication \\n\", matrix9 @ matrix10)"
   ]
  },
  {
   "cell_type": "code",
   "execution_count": null,
   "id": "b48aa9b8-3fd4-421e-8373-78af040558cf",
   "metadata": {},
   "outputs": [],
   "source": []
  }
 ],
 "metadata": {
  "kernelspec": {
   "display_name": "Python 3 (ipykernel)",
   "language": "python",
   "name": "python3"
  },
  "language_info": {
   "codemirror_mode": {
    "name": "ipython",
    "version": 3
   },
   "file_extension": ".py",
   "mimetype": "text/x-python",
   "name": "python",
   "nbconvert_exporter": "python",
   "pygments_lexer": "ipython3",
   "version": "3.9.6"
  }
 },
 "nbformat": 4,
 "nbformat_minor": 5
}
